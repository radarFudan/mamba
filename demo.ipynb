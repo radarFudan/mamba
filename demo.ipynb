{
 "cells": [
  {
   "cell_type": "code",
   "execution_count": 1,
   "metadata": {},
   "outputs": [
    {
     "name": "stderr",
     "output_type": "stream",
     "text": [
      "/tmp/ipykernel_3736412/3538135189.py:3: DeprecationWarning: \n",
      "Pyarrow will become a required dependency of pandas in the next major release of pandas (pandas 3.0),\n",
      "(to allow more performant data types, such as the Arrow string type, and better interoperability with other libraries)\n",
      "but was not found to be installed on your system.\n",
      "If this would cause problems for you,\n",
      "please provide us feedback at https://github.com/pandas-dev/pandas/issues/54466\n",
      "        \n",
      "  import pandas as pd\n",
      "/home/shida/miniconda3/envs/mamba_pr/lib/python3.11/site-packages/tqdm/auto.py:21: TqdmWarning: IProgress not found. Please update jupyter and ipywidgets. See https://ipywidgets.readthedocs.io/en/stable/user_install.html\n",
      "  from .autonotebook import tqdm as notebook_tqdm\n"
     ]
    },
    {
     "name": "stdout",
     "output_type": "stream",
     "text": [
      "selective_scan_cuda\n",
      "[ 0.06407421  0.06236958  0.01166452  0.02509372 -0.01790208 -0.01710338\n",
      "  0.00957332  0.1328741  -0.00565795  0.10410124 -0.00940671 -0.01141407\n",
      " -0.0037374  -0.00544129 -0.01197526  0.00503347]\n"
     ]
    }
   ],
   "source": [
    "import time\n",
    "import numpy as np\n",
    "import pandas as pd\n",
    "import torch\n",
    "from mamba_ssm import Mamba\n",
    "\n",
    "batch, length, dim = 1, 16, 1\n",
    "torch.manual_seed(0)\n",
    "x = torch.randn(batch, length, dim).to(\"cuda\")\n",
    "model = Mamba(\n",
    "    # This module uses roughly 3 * expand * d_model^2 parameters\n",
    "    d_model=dim, # Model dimension d_model\n",
    "    d_state=16,  # SSM state expansion factor\n",
    "    d_conv=4,    # Local convolution width\n",
    "    expand=2,    # Block expansion factor\n",
    ").to(\"cuda\")\n",
    "y = model(x)\n",
    "\n",
    "assert y.shape == x.shape\n",
    "y = y.cpu().detach().numpy()\n",
    "y = np.squeeze(y)\n",
    "print(y)"
   ]
  },
  {
   "cell_type": "code",
   "execution_count": 2,
   "metadata": {},
   "outputs": [
    {
     "name": "stdout",
     "output_type": "stream",
     "text": [
      "selective_scan_cuda\n",
      "selective_scan_cuda\n",
      "selective_scan_cuda\n",
      "Length 128 took 0.001697222391764323 seconds\n",
      "selective_scan_cuda\n",
      "selective_scan_cuda\n",
      "selective_scan_cuda\n",
      "Length 256 took 0.0005888144175211588 seconds\n",
      "selective_scan_cuda\n",
      "selective_scan_cuda\n",
      "selective_scan_cuda\n",
      "Length 512 took 0.0006221135457356771 seconds\n",
      "selective_scan_cuda\n",
      "selective_scan_cuda\n",
      "selective_scan_cuda\n",
      "Length 1024 took 0.0005869865417480469 seconds\n",
      "selective_scan_cuda\n",
      "selective_scan_cuda\n",
      "selective_scan_cuda\n",
      "Length 2048 took 0.0008376439412434896 seconds\n",
      "selective_scan_cuda\n",
      "selective_scan_cuda\n",
      "selective_scan_cuda\n",
      "Length 4096 took 0.0020596186319986978 seconds\n",
      "selective_scan_cuda\n",
      "selective_scan_cuda\n",
      "selective_scan_cuda\n",
      "Length 8192 took 0.0005873839060465494 seconds\n",
      "selective_scan_cuda\n",
      "selective_scan_cuda\n",
      "selective_scan_cuda\n",
      "Length 16384 took 0.0007665157318115234 seconds\n",
      "selective_scan_cuda\n",
      "selective_scan_cuda\n",
      "selective_scan_cuda\n",
      "Length 32768 took 0.0006613731384277344 seconds\n",
      "selective_scan_cuda\n",
      "selective_scan_cuda\n",
      "selective_scan_cuda\n",
      "Length 65536 took 0.0006992816925048828 seconds\n"
     ]
    }
   ],
   "source": [
    "time_dict = {}\n",
    "length_range = [2 ** power for power in range(7, 17)]\n",
    "for length in length_range:\n",
    "    time_dict[length] = 0\n",
    "    repeats = 3\n",
    "    for _ in range(repeats):\n",
    "        x = torch.randn(batch, length, dim).to(\"cuda\")\n",
    "\n",
    "        end = time.time()\n",
    "        y = model(x)\n",
    "        time_dict[length] += time.time() - end\n",
    "    time_dict[length] /= repeats\n",
    "    print(f\"Length {length} took {time_dict[length]} seconds\")\n",
    "\n",
    "df = pd.DataFrame(time_dict.items(), columns=[\"Length\", \"Time\"])\n",
    "df.to_csv(\"mamba_ssm.csv\", index=False)"
   ]
  }
 ],
 "metadata": {
  "kernelspec": {
   "display_name": "mamba_pr",
   "language": "python",
   "name": "python3"
  },
  "language_info": {
   "codemirror_mode": {
    "name": "ipython",
    "version": 3
   },
   "file_extension": ".py",
   "mimetype": "text/x-python",
   "name": "python",
   "nbconvert_exporter": "python",
   "pygments_lexer": "ipython3",
   "version": "3.11.7"
  }
 },
 "nbformat": 4,
 "nbformat_minor": 2
}
